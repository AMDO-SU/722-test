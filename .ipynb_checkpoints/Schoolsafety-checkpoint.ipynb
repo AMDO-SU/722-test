{
 "cells": [
  {
   "cell_type": "code",
   "execution_count": 204,
   "metadata": {},
   "outputs": [],
   "source": [
    "# Must be included at the beginning of each new notebook. Remember to change the app name.\n",
    "import findspark\n",
    "findspark.init('/home/ubuntu/spark-2.1.1-bin-hadoop2.7')\n",
    "import pyspark\n",
    "from pyspark.sql import SparkSession\n",
    "spark = SparkSession.builder.appName('basics').getOrCreate()"
   ]
  },
  {
   "cell_type": "code",
   "execution_count": 176,
   "metadata": {},
   "outputs": [],
   "source": [
    "df = spark.read.csv('Datasets/iterat4.csv',header=True, inferSchema=True)"
   ]
  },
  {
   "cell_type": "code",
   "execution_count": 177,
   "metadata": {
    "scrolled": false
   },
   "outputs": [
    {
     "name": "stdout",
     "output_type": "stream",
     "text": [
      "+---+-----------+--------------------+-------------+-------+--------------------------+--------+-------------+-------+--------------+--------------+--------------------+-------+-----+--------+------+-----+--------+-------+------------+----------+-------------+-----------+----------+--------+---------+----------+---------------+----------------+------------+---------+-------------+--------------------+\n",
      "|_c0|School Year|       Location Name|Location Code|Borough|Geographical District Code|Register|Building Name|Schools|NYPD Site Code|NYPD Site Name| Schools in Building|Major N|Oth N|NoCrim N|Prop N|Vio N|ENGroupA| RangeA|AvgOfMajor N|AvgOfOth N|AvgOfNoCrim N|AvgOfProp N|AvgOfVio N|Postcode| Latitude| Longitude|Community Board|Council District|Census Tract|      BIN|          BBL|                 NTA|\n",
      "+---+-----------+--------------------+-------------+-------+--------------------------+--------+-------------+-------+--------------+--------------+--------------------+-------+-----+--------+------+-----+--------+-------+------------+----------+-------------+-----------+----------+--------+---------+----------+---------------+----------------+------------+---------+-------------+--------------------+\n",
      "|  0|  2016 - 17|P.S. M079 - Horan...|         M079|      M|                         5|   508.0|         null|      1|         657.0|       IS 070M|P.S. 076 A. Phili...|    0.0|  2.0|     2.0|   2.0|  0.0|      4C|501-750|        0.28|      1.11|         1.74|       0.75|      0.53| 10035.0|40.802419|-73.942634|           11.0|             9.0|       198.0|1053968.0|1.017470001E9|East Harlem North...|\n",
      "|  1|  2016 - 17|P.S./I.S. 210 - T...|         M210|      M|                         6|   277.0|         null|      2|         701.0|    PS/IS 089M|P.S. 092 Mary McL...|    1.0|  3.0|     2.0|   1.0|  3.0|      3C|251-500|        0.27|       0.9|         1.67|       0.63|      0.44| 10031.0|40.829832|-73.944789|            9.0|             7.0|       237.0|1087824.0|1.020840129E9|Hamilton Heights ...|\n",
      "+---+-----------+--------------------+-------------+-------+--------------------------+--------+-------------+-------+--------------+--------------+--------------------+-------+-----+--------+------+-----+--------+-------+------------+----------+-------------+-----------+----------+--------+---------+----------+---------------+----------------+------------+---------+-------------+--------------------+\n",
      "only showing top 2 rows\n",
      "\n"
     ]
    },
    {
     "data": {
      "text/plain": [
       "['_c0',\n",
       " 'School Year',\n",
       " 'Location Name',\n",
       " 'Location Code',\n",
       " 'Borough',\n",
       " 'Geographical District Code',\n",
       " 'Register',\n",
       " 'Building Name',\n",
       " 'Schools',\n",
       " 'NYPD Site Code',\n",
       " 'NYPD Site Name',\n",
       " 'Schools in Building',\n",
       " 'Major N',\n",
       " 'Oth N',\n",
       " 'NoCrim N',\n",
       " 'Prop N',\n",
       " 'Vio N',\n",
       " 'ENGroupA',\n",
       " 'RangeA',\n",
       " 'AvgOfMajor N',\n",
       " 'AvgOfOth N',\n",
       " 'AvgOfNoCrim N',\n",
       " 'AvgOfProp N',\n",
       " 'AvgOfVio N',\n",
       " 'Postcode',\n",
       " 'Latitude',\n",
       " 'Longitude',\n",
       " 'Community Board',\n",
       " 'Council District',\n",
       " 'Census Tract',\n",
       " 'BIN',\n",
       " 'BBL',\n",
       " 'NTA']"
      ]
     },
     "execution_count": 177,
     "metadata": {},
     "output_type": "execute_result"
    }
   ],
   "source": [
    "df.show(n=2)\n",
    "df.columns\n",
    "df.printSchema()"
   ]
  },
  {
   "cell_type": "code",
   "execution_count": 178,
   "metadata": {
    "scrolled": true
   },
   "outputs": [
    {
     "name": "stdout",
     "output_type": "stream",
     "text": [
      "+-------+-----------------+-----------+-------------------+-------------+-------+--------------------------+-----------------+--------------------+------------------+------------------+--------------------+--------------------+-------------------+------------------+-----------------+------------------+------------------+--------+--------+-------------------+------------------+-----------------+------------------+------------------+------------------+-------------------+-------------------+------------------+------------------+-----------------+------------------+--------------------+--------------------+\n",
      "|summary|              _c0|School Year|      Location Name|Location Code|Borough|Geographical District Code|         Register|       Building Name|           Schools|    NYPD Site Code|      NYPD Site Name| Schools in Building|            Major N|             Oth N|         NoCrim N|            Prop N|             Vio N|ENGroupA|  RangeA|       AvgOfMajor N|        AvgOfOth N|    AvgOfNoCrim N|       AvgOfProp N|        AvgOfVio N|          Postcode|           Latitude|          Longitude|   Community Board|  Council District|     Census Tract|               BIN|                 BBL|                 NTA|\n",
      "+-------+-----------------+-----------+-------------------+-------------+-------+--------------------------+-----------------+--------------------+------------------+------------------+--------------------+--------------------+-------------------+------------------+-----------------+------------------+------------------+--------+--------+-------------------+------------------+-----------------+------------------+------------------+------------------+-------------------+-------------------+------------------+------------------+-----------------+------------------+--------------------+--------------------+\n",
      "|  count|             2046|       2046|               2046|         2046|   2046|                      2046|             2016|                1165|              2046|              1985|                1985|                2046|               1211|              1211|             1211|              1211|              1211|    2017|    2017|               1208|              1208|             1208|              1208|              1208|              2020|               2020|               2020|              2020|              2020|             2020|              2016|                2016|                2020|\n",
      "|   mean|           1022.5|       null|               null|         null|   null|        15.463831867057673|690.7157738095239|                null|2.1295210166177907| 593.4765743073048|                null|                 1.0|0.41370767960363336|1.6498761354252685|3.570602807597027| 0.985962014863749| 0.861271676300578|    null|    null| 0.4405132450331066|1.8559105960264908|3.442003311258273| 1.133360927152326| 0.887425496688743|10788.123762376237|  40.73727616980197|  -73.9188424341584| 7.305940594059406|24.308415841584157|7065.425247524752| 2743071.177579365|2.6741923500709324E9|                null|\n",
      "| stddev|590.7736453160381|       null|               null|         null|   null|         9.246920416671458|551.2523635386018|                null|1.4243219002729701|384.17133875461946|                null|                 NaN| 0.8708941223417485|2.7396005441796953|7.053321910057788|1.6950977821700781|1.7028642961947835|    null|    null|0.35410538382907314|1.7022954429044332|4.110659487038757|0.9259178722098851|0.7710343891433603| 530.3360308580343|0.08501718178849754|0.07819619588186524|4.5531873412231825| 14.51154272224838|21994.21583690115|1190585.1795396467| 1.149403217235937E9|                null|\n",
      "|    min|                0|  2016 - 17|        1 PECK SLIP|         K001|      K|                         0|             62.0|         1 Peck Slip|                 1|               1.0| 51st AVENUE ACADEMY|  Archer Elementa...|                0.0|               0.0|              0.0|               0.0|               0.0|     10C|   1-250|               0.24|              0.71|             1.67|              0.51|              0.32|           10001.0|          40.508284|         -74.244118|               1.0|               1.0|              1.0|         1000003.0|       1.000020002E9|Allerton-Pelham G...|\n",
      "|    max|             2045|  2016 - 17|√Ç¬†P.S. 93 - BRONX|         X972|      X|                        32|           5682.0|PRE-K CENTER @ 50...|                 8|            1463.0|Young Women Leade...|Young Women's Lea...|                8.0|              21.0|             88.0|              16.0|              12.0|      9C|751-1000|               3.14|              13.0|            34.86|              8.29|              5.29|           11694.0|          40.903553|         -73.707418|              18.0|              51.0|         157903.0|         5158758.0|       5.078980001E9|park-cemetery-etc...|\n",
      "+-------+-----------------+-----------+-------------------+-------------+-------+--------------------------+-----------------+--------------------+------------------+------------------+--------------------+--------------------+-------------------+------------------+-----------------+------------------+------------------+--------+--------+-------------------+------------------+-----------------+------------------+------------------+------------------+-------------------+-------------------+------------------+------------------+-----------------+------------------+--------------------+--------------------+\n",
      "\n"
     ]
    }
   ],
   "source": [
    "df.describe().show()"
   ]
  },
  {
   "cell_type": "code",
   "execution_count": 179,
   "metadata": {},
   "outputs": [
    {
     "name": "stdout",
     "output_type": "stream",
     "text": [
      "+--------+-------+-------+\n",
      "|Register|Borough|Major N|\n",
      "+--------+-------+-------+\n",
      "|   508.0|      M|    0.0|\n",
      "|   277.0|      M|    1.0|\n",
      "|   248.0|      X|   null|\n",
      "|   502.0|      X|    0.0|\n",
      "|   604.0|      X|    1.0|\n",
      "|   210.0|      X|   null|\n",
      "|   296.0|      X|   null|\n",
      "|   387.0|      X|   null|\n",
      "|   288.0|      X|   null|\n",
      "|  1463.0|      X|    2.0|\n",
      "|   240.0|      X|   null|\n",
      "|   389.0|      M|    0.0|\n",
      "|   263.0|      M|    0.0|\n",
      "|   500.0|      K|    0.0|\n",
      "|   590.0|      K|    0.0|\n",
      "|   479.0|      M|   null|\n",
      "|   346.0|      K|   null|\n",
      "|   212.0|      M|   null|\n",
      "|   201.0|      K|    1.0|\n",
      "|   127.0|      M|   null|\n",
      "+--------+-------+-------+\n",
      "only showing top 20 rows\n",
      "\n"
     ]
    }
   ],
   "source": [
    "# We can also select various columns from a DataFrame. \n",
    "df.select('Register','Borough','Major N').show(n=20)"
   ]
  },
  {
   "cell_type": "code",
   "execution_count": 180,
   "metadata": {
    "scrolled": true
   },
   "outputs": [
    {
     "name": "stdout",
     "output_type": "stream",
     "text": [
      "+---+-----------+--------------------+-------------+-------+--------------------------+--------+--------------------+-------+--------------+--------------------+--------------------+-------+-----+--------+------+-----+--------+---------+------------+----------+-------------+-----------+----------+--------+---------+----------+---------------+----------------+------------+---------+-------------+--------------------+\n",
      "|_c0|School Year|       Location Name|Location Code|Borough|Geographical District Code|Register|       Building Name|Schools|NYPD Site Code|      NYPD Site Name| Schools in Building|Major N|Oth N|NoCrim N|Prop N|Vio N|ENGroupA|   RangeA|AvgOfMajor N|AvgOfOth N|AvgOfNoCrim N|AvgOfProp N|AvgOfVio N|Postcode| Latitude| Longitude|Community Board|Council District|Census Tract|      BIN|          BBL|                 NTA|\n",
      "+---+-----------+--------------------+-------------+-------+--------------------------+--------+--------------------+-------+--------------+--------------------+--------------------+-------+-----+--------+------+-----+--------+---------+------------+----------+-------------+-----------+----------+--------+---------+----------+---------------+----------------+------------+---------+-------------+--------------------+\n",
      "|  0|  2016 - 17|P.S. M079 - Horan...|         M079|      M|                         5|   508.0|                null|      1|         657.0|             IS 070M|P.S. 076 A. Phili...|    0.0|  2.0|     2.0|   2.0|  0.0|      4C|  501-750|        0.28|      1.11|         1.74|       0.75|      0.53| 10035.0|40.802419|-73.942634|           11.0|             9.0|       198.0|1053968.0|1.017470001E9|East Harlem North...|\n",
      "|  1|  2016 - 17|P.S./I.S. 210 - T...|         M210|      M|                         6|   277.0|                null|      2|         701.0|          PS/IS 089M|P.S. 092 Mary McL...|    1.0|  3.0|     2.0|   1.0|  3.0|      3C|  251-500|        0.27|       0.9|         1.67|       0.63|      0.44| 10031.0|40.829832|-73.944789|            9.0|             7.0|       237.0|1087824.0|1.020840129E9|Hamilton Heights ...|\n",
      "|  2|  2016 - 17|888 REV J A POLIT...|         X060|      X|                         8|   248.0|2111 CROTONA AVEN...|      2|         370.0|             PS 047X|P.S. 057 Crescent...|   null| null|    null|  null| null|      2C|    1-250|        null|      null|         null|       null|      null| 10459.0|40.820403|-73.898912|            2.0|            17.0|        87.0|2005348.0|2.026960085E9|Longwood         ...|\n",
      "|  3|  2016 - 17|P.S. 333 - The Mu...|         X333|      X|                         8|   502.0|                null|      1|         372.0|             PS 050X|            P.S. 058|    0.0|  2.0|     3.0|   2.0|  0.0|      4C|  501-750|        0.28|      1.11|         1.74|       0.75|      0.53| 10459.0|40.820403|-73.898912|            2.0|            17.0|        87.0|2005348.0|2.026960085E9|Longwood         ...|\n",
      "|  4|  2016 - 17|The Academy of th...|         X335|      X|                         8|   604.0|                null|      1|         372.0|             PS 050X|P.S. 059 The Comm...|    1.0|  0.0|     0.0|   1.0|  0.0|      4C|  501-750|        0.28|      1.11|         1.74|       0.75|      0.53| 10459.0|40.820403|-73.898912|            2.0|            17.0|        87.0|2005348.0|2.026960085E9|Longwood         ...|\n",
      "|  5|  2016 - 17|1180 REV. J.A. PO...|         X099|      X|                        12|   210.0|1619 BOSTON ROAD ...|      3|         428.0|             CS 090X|J.H.S. 098 Herman...|   null| null|    null|  null| null|      2C|    1-250|        null|      null|         null|       null|      null| 10459.0|40.827315|-73.897612|            2.0|            17.0|       131.0|2005276.0|2.026920014E9|Longwood         ...|\n",
      "|  6|  2016 - 17|P.S. 160 Walt Disney|         X160|      X|                        11|   296.0|800 HOME STREET C...|      3|         404.0|             PS 152X|Bronx Latin|Bronx...|   null| null|    null|  null| null|      3C|  251-500|        null|      null|         null|       null|      null| 10475.0|40.864676|-73.824303|           10.0|            12.0|       302.0|2072352.0|  2.0513502E9|Co-op City       ...|\n",
      "|  7|  2016 - 17|ROADS Charter Sch...|         X200|      X|                        12|   387.0|1110 BOSTON ROAD ...|      4|         524.0|          PS/MS 306X|Morris Academy fo...|   null| null|    null|  null| null|      3C|  251-500|        null|      null|         null|       null|      null| 10459.0|40.823532|-73.898872|            2.0|            17.0|     12901.0|2005366.0|2.026980012E9|Longwood         ...|\n",
      "|  8|  2016 - 17|Arturo A. Schombu...|         X446|      X|                        12|   288.0|1110 BOSTON ROAD ...|      4|         524.0|          PS/MS 306X|Morris Academy fo...|   null| null|    null|  null| null|      3C|  251-500|        null|      null|         null|       null|      null| 10459.0|40.823532|-73.898872|            2.0|            17.0|     12901.0|2005366.0|2.026980012E9|Longwood         ...|\n",
      "|  9|  2016 - 17|Bronx Regional Hi...|         X480|      X|                        12|  1463.0|1110 BOSTON ROAD ...|      4|         524.0|          PS/MS 306X|Morris Academy fo...|    2.0|  4.0|    30.0|   1.0|  5.0|      7C|1251-1500|        0.64|      3.02|         5.77|       1.72|      1.54| 10459.0|40.823532|-73.898872|            2.0|            17.0|     12901.0|2005366.0|2.026980012E9|Longwood         ...|\n",
      "| 10|  2016 - 17|1010 REV. J. A. P...|         X401|      X|                        12|   240.0|1010 REV. J. A. P...|      3|        1382.0|Academy for Schol...|Arturo A. Schombu...|   null| null|    null|  null| null|      2C|    1-250|        null|      null|         null|       null|      null| 10459.0|40.823532|-73.898872|            2.0|            17.0|     12901.0|2005366.0|2.026980012E9|Longwood         ...|\n",
      "| 11|  2016 - 17|Thurgood Marshall...|         M318|      M|                         5|   389.0|                null|      1|          null|                null| P.S. 051 Elias Howe|    0.0|  1.0|     0.0|   1.0|  0.0|      3C|  251-500|        0.27|       0.9|         1.67|       0.63|      0.44| 10039.0|40.826126|-73.937982|           10.0|             9.0|       236.0|1060596.0|1.020360047E9|Central Harlem No...|\n",
      "| 12|  2016 - 17|P.S. 083 Luis Mun...|         M083|      M|                         4|   263.0|                null|      1|         585.0|             PS 072M|P.S. M079 - Horan...|    0.0|  1.0|     0.0|   1.0|  0.0|      3C|  251-500|        0.27|       0.9|         1.67|       0.63|      0.44| 10029.0|40.793194|-73.942548|           11.0|             8.0|       180.0|1052436.0|1.016590012E9|East Harlem North...|\n",
      "| 13|  2016 - 17|Dr. Susan S. McKi...|         K265|      K|                        13|   500.0|                null|      1|        1031.0|             PS 262K|P.S. 264 BAY RIDG...|    0.0|  0.0|     1.0|   0.0|  0.0|      3C|  251-500|        0.27|       0.9|         1.67|       0.63|      0.44| 11205.0|40.696324| -73.97578|            2.0|            35.0|       211.0|3057942.0|3.020280001E9|Fort Greene      ...|\n",
      "| 14|  2016 - 17|   P.S. 048 Mapleton|         K048|      K|                        20|   590.0|                null|      1|          70.0|             PS 046K|   P.S. 048 Mapleton|    0.0|  0.0|     0.0|   0.0|  0.0|      4C|  501-750|        0.28|      1.11|         1.74|       0.75|      0.53| 11204.0|40.621871|-73.987396|           12.0|            44.0|       244.0|3132140.0|3.055190001E9|Borough Park     ...|\n",
      "| 15|  2016 - 17|P.S. 208 Alain L....|         M208|      M|                         3|   479.0|508 EAST 120 STRE...|      2|         632.0|             PS 198M|River East Elemen...|   null| null|    null|  null| null|      3C|  251-500|        null|      null|         null|       null|      null| 10026.0|40.797874|-73.949699|           10.0|             9.0|       186.0|1051410.0|1.015950015E9|Central Harlem So...|\n",
      "| 16|  2016 - 17|SUCCESS ACADEMY C...|         K781|      K|                        22|   346.0|1420 East 68 Stre...|      2|          78.0|             PS 075K|J.H.S. 078 Roy H....|   null| null|    null|  null| null|      3C|  251-500|        null|      null|         null|       null|      null| 11234.0|40.621224| -73.91287|           18.0|            46.0|     69602.0|3236496.0|3.083880002E9|Georgetown-Marine...|\n",
      "| 17|  2016 - 17|The Urban Assembl...|         M135|      M|                         2|   212.0|198 FORSYTH STREE...|      2|         534.0|       CHOIR ACADEMY|Forsyth Satellite...|   null| null|    null|  null| null|      2C|    1-250|        null|      null|         null|       null|      null| 10038.0|40.711442|-74.000851|            1.0|             1.0|        29.0|1001388.0|  1.0011301E9|Chinatown        ...|\n",
      "| 18|  2016 - 17|P.S. 372 -The Chi...|         K372|      K|                        15|   201.0|                null|      1|        1043.0|METROPOLITAN CORP...|South Brooklyn Co...|    1.0|  2.0|     1.0|   2.0|  0.0|      2C|    1-250|        0.24|      0.71|         1.71|       0.51|      0.32| 11215.0|40.676668|-73.985258|            6.0|            39.0|       119.0|3007707.0|3.004550001E9|Park Slope-Gowanu...|\n",
      "| 19|  2016 - 17|185 1 AVENUE CONS...|         M019|      M|                         1|   127.0|185 1 AVENUE CONS...|      2|         549.0|            JHS 013M|P.S. 019 Asher Le...|   null| null|    null|  null| null|      2C|    1-250|        null|      null|         null|       null|      null| 10003.0|40.729636|-73.983818|            3.0|             2.0|        40.0|1006478.0|1.004530034E9|East Village     ...|\n",
      "+---+-----------+--------------------+-------------+-------+--------------------------+--------+--------------------+-------+--------------+--------------------+--------------------+-------+-----+--------+------+-----+--------+---------+------------+----------+-------------+-----------+----------+--------+---------+----------+---------------+----------------+------------+---------+-------------+--------------------+\n",
      "only showing top 20 rows\n",
      "\n"
     ]
    }
   ],
   "source": [
    "df.createOrReplaceTempView('schoolreport')\n",
    "\n",
    "# After that, we can use the SQL programming language for queries. \n",
    "results = spark.sql(\"SELECT * FROM schoolreport\")\n",
    "results.show()"
   ]
  },
  {
   "cell_type": "code",
   "execution_count": 181,
   "metadata": {},
   "outputs": [
    {
     "name": "stdout",
     "output_type": "stream",
     "text": [
      "+--------+\n",
      "|Register|\n",
      "+--------+\n",
      "|   508.0|\n",
      "|   277.0|\n",
      "|   248.0|\n",
      "|   502.0|\n",
      "|   604.0|\n",
      "|   210.0|\n",
      "|   296.0|\n",
      "|   387.0|\n",
      "|   288.0|\n",
      "|  1463.0|\n",
      "|   240.0|\n",
      "|   389.0|\n",
      "|   263.0|\n",
      "|   500.0|\n",
      "|   590.0|\n",
      "|   479.0|\n",
      "|   346.0|\n",
      "|   212.0|\n",
      "|   201.0|\n",
      "|   127.0|\n",
      "+--------+\n",
      "only showing top 20 rows\n",
      "\n"
     ]
    }
   ],
   "source": [
    "results = spark.sql(\"SELECT Register FROM schoolreport WHERE Register >= 1\")\n",
    "results.show()"
   ]
  },
  {
   "cell_type": "code",
   "execution_count": 182,
   "metadata": {},
   "outputs": [
    {
     "data": {
      "text/plain": [
       "[Row(_c0=0, School Year='2016 - 17', Location Name='P.S. M079 - Horan School', Location Code='M079', Borough='M', Geographical District Code=5, Register=508.0, Building Name=None, Schools=1, NYPD Site Code=657.0, NYPD Site Name='IS 070M', Schools in Building='P.S. 076 A. Philip Randolph', Major N=0.0, Oth N=2.0, NoCrim N=2.0, Prop N=2.0, Vio N=0.0, ENGroupA='4C', RangeA='501-750', AvgOfMajor N=0.28, AvgOfOth N=1.11, AvgOfNoCrim N=1.74, AvgOfProp N=0.75, AvgOfVio N=0.53, Postcode=10035.0, Latitude=40.802419, Longitude=-73.942634, Community Board=11.0, Council District=9.0, Census Tract=198.0, BIN=1053968.0, BBL=1017470001.0, NTA='East Harlem North                                                          ')]"
      ]
     },
     "execution_count": 182,
     "metadata": {},
     "output_type": "execute_result"
    }
   ],
   "source": [
    "df.head(1)"
   ]
  },
  {
   "cell_type": "code",
   "execution_count": 183,
   "metadata": {},
   "outputs": [],
   "source": [
    "df1=df['Borough','Major N','Vio N','Prop N','Oth N','NoCrim N']"
   ]
  },
  {
   "cell_type": "code",
   "execution_count": 184,
   "metadata": {},
   "outputs": [
    {
     "name": "stdout",
     "output_type": "stream",
     "text": [
      "+-------+-------+-----+------+-----+--------+\n",
      "|Borough|Major N|Vio N|Prop N|Oth N|NoCrim N|\n",
      "+-------+-------+-----+------+-----+--------+\n",
      "|      M|    0.0|  0.0|   2.0|  2.0|     2.0|\n",
      "|      M|    1.0|  3.0|   1.0|  3.0|     2.0|\n",
      "|      X|   null| null|  null| null|    null|\n",
      "|      X|    0.0|  0.0|   2.0|  2.0|     3.0|\n",
      "|      X|    1.0|  0.0|   1.0|  0.0|     0.0|\n",
      "|      X|   null| null|  null| null|    null|\n",
      "|      X|   null| null|  null| null|    null|\n",
      "|      X|   null| null|  null| null|    null|\n",
      "|      X|   null| null|  null| null|    null|\n",
      "|      X|    2.0|  5.0|   1.0|  4.0|    30.0|\n",
      "|      X|   null| null|  null| null|    null|\n",
      "|      M|    0.0|  0.0|   1.0|  1.0|     0.0|\n",
      "|      M|    0.0|  0.0|   1.0|  1.0|     0.0|\n",
      "|      K|    0.0|  0.0|   0.0|  0.0|     1.0|\n",
      "|      K|    0.0|  0.0|   0.0|  0.0|     0.0|\n",
      "|      M|   null| null|  null| null|    null|\n",
      "|      K|   null| null|  null| null|    null|\n",
      "|      M|   null| null|  null| null|    null|\n",
      "|      K|    1.0|  0.0|   2.0|  2.0|     1.0|\n",
      "|      M|   null| null|  null| null|    null|\n",
      "+-------+-------+-----+------+-----+--------+\n",
      "only showing top 20 rows\n",
      "\n"
     ]
    }
   ],
   "source": [
    "df1.show()"
   ]
  },
  {
   "cell_type": "code",
   "execution_count": 185,
   "metadata": {},
   "outputs": [
    {
     "name": "stdout",
     "output_type": "stream",
     "text": [
      "+-------+-------------------+------------------+------------------+------------------+------------------+\n",
      "|Borough|       avg(Major N)|        avg(Vio N)|       avg(Prop N)|        avg(Oth N)|     avg(NoCrim N)|\n",
      "+-------+-------------------+------------------+------------------+------------------+------------------+\n",
      "|      K|  0.387434554973822|0.7774869109947644|0.9764397905759162|1.5602094240837696|3.4842931937172774|\n",
      "|      Q| 0.2786885245901639|0.6262295081967213|0.6983606557377049|1.2622950819672132|2.2426229508196722|\n",
      "|      M| 0.4855769230769231|0.8317307692307693|              1.25|1.8221153846153846| 3.519230769230769|\n",
      "|      O|                0.0|               0.0|               0.0|               0.0|               0.0|\n",
      "|      X| 0.6337448559670782|1.3580246913580247| 1.176954732510288| 2.123456790123457| 5.320987654320987|\n",
      "|      R|0.18055555555555555|0.7222222222222222|0.8611111111111112|1.6944444444444444|3.9444444444444446|\n",
      "+-------+-------------------+------------------+------------------+------------------+------------------+\n",
      "\n"
     ]
    }
   ],
   "source": [
    "df1.groupBy('Borough').mean().show(n=20)"
   ]
  },
  {
   "cell_type": "code",
   "execution_count": 186,
   "metadata": {},
   "outputs": [],
   "source": [
    "df2=df['ENGroupA','Major N','Vio N','Prop N','Oth N','NoCrim N']\n",
    "df3=df2.groupBy('ENGroupA').mean()"
   ]
  },
  {
   "cell_type": "code",
   "execution_count": 187,
   "metadata": {},
   "outputs": [
    {
     "name": "stdout",
     "output_type": "stream",
     "text": [
      "+--------+-------------------+-------------------+------------------+------------------+------------------+\n",
      "|ENGroupA|       avg(Major N)|         avg(Vio N)|       avg(Prop N)|        avg(Oth N)|     avg(NoCrim N)|\n",
      "+--------+-------------------+-------------------+------------------+------------------+------------------+\n",
      "|      9C| 1.1612903225806452| 2.4838709677419355|2.5806451612903225| 4.419354838709677| 8.064516129032258|\n",
      "|      8C| 0.8666666666666667| 1.7555555555555555|               1.8|3.1555555555555554|6.4222222222222225|\n",
      "|      7C| 0.5324675324675324| 1.4155844155844155|1.4805194805194806| 2.688311688311688| 5.909090909090909|\n",
      "|      6C|0.45161290322580644| 1.1451612903225807|1.1209677419354838|2.0161290322580645| 4.129032258064516|\n",
      "|      5C| 0.3444976076555024| 0.6172248803827751|0.8277511961722488| 1.215311004784689| 2.708133971291866|\n",
      "|      4C| 0.2415902140672783|0.45565749235474007|0.5504587155963303|0.8807339449541285| 1.761467889908257|\n",
      "|      3C| 0.2235294117647059| 0.4235294117647059|0.5137254901960784|0.8196078431372549|1.8196078431372549|\n",
      "|      2C|0.23170731707317074| 0.3048780487804878|0.5121951219512195|0.6951219512195121|1.2195121951219512|\n",
      "|     13C| 2.3333333333333335| 3.6666666666666665|               7.0|               9.5|              11.5|\n",
      "|     12C| 1.8571428571428572|  3.857142857142857| 5.357142857142857|               9.5|23.571428571428573|\n",
      "|     11C| 1.7777777777777777| 3.6666666666666665|               5.0| 7.888888888888889|22.666666666666668|\n",
      "|     10C| 1.5862068965517242|                4.0|3.1724137931034484| 6.655172413793103|17.517241379310345|\n",
      "|    null|                0.0|                0.0|               0.0|               0.0|0.3333333333333333|\n",
      "+--------+-------------------+-------------------+------------------+------------------+------------------+\n",
      "\n"
     ]
    }
   ],
   "source": [
    "df3.orderBy(df['ENGroupA'].desc()).show()"
   ]
  },
  {
   "cell_type": "code",
   "execution_count": 188,
   "metadata": {},
   "outputs": [
    {
     "name": "stdout",
     "output_type": "stream",
     "text": [
      "+---+-----------+-------------+-------------+-------+--------------------------+--------+-------------+-------+--------------+--------------+-------------------+-------+-----+--------+------+-----+--------+------+------------+----------+-------------+-----------+----------+--------+--------+---------+---------------+----------------+------------+----+----+----+\n",
      "|_c0|School Year|Location Name|Location Code|Borough|Geographical District Code|Register|Building Name|Schools|NYPD Site Code|NYPD Site Name|Schools in Building|Major N|Oth N|NoCrim N|Prop N|Vio N|ENGroupA|RangeA|AvgOfMajor N|AvgOfOth N|AvgOfNoCrim N|AvgOfProp N|AvgOfVio N|Postcode|Latitude|Longitude|Community Board|Council District|Census Tract| BIN| BBL| NTA|\n",
      "+---+-----------+-------------+-------------+-------+--------------------------+--------+-------------+-------+--------------+--------------+-------------------+-------+-----+--------+------+-----+--------+------+------------+----------+-------------+-----------+----------+--------+--------+---------+---------------+----------------+------------+----+----+----+\n",
      "|0.0|        0.0|          0.0|          0.0|    0.0|                       0.0|    30.0|        881.0|    0.0|          61.0|          61.0|                0.0|  835.0|835.0|   835.0| 835.0|835.0|    29.0|  29.0|       838.0|     838.0|        838.0|      838.0|     838.0|    26.0|    26.0|     26.0|           26.0|            26.0|        26.0|30.0|30.0|26.0|\n",
      "+---+-----------+-------------+-------------+-------+--------------------------+--------+-------------+-------+--------------+--------------+-------------------+-------+-----+--------+------+-----+--------+------+------------+----------+-------------+-----------+----------+--------+--------+---------+---------------+----------------+------------+----+----+----+\n",
      "\n"
     ]
    }
   ],
   "source": [
    "from pyspark.sql.functions import lit\n",
    "from pyspark.sql.functions import col\n",
    "rows = df.count()\n",
    "summary = df.describe().filter(col(\"summary\") == \"count\")\n",
    "summary.select(*((lit(rows)-col(c)).alias(c) for c in df.columns)).show()"
   ]
  },
  {
   "cell_type": "code",
   "execution_count": 189,
   "metadata": {},
   "outputs": [
    {
     "name": "stdout",
     "output_type": "stream",
     "text": [
      "+-------+--------------------------+--------+-------+-------+-----+------+-----+--------+-------+------------+----------+-----------+----------+\n",
      "|Borough|Geographical District Code|Register|Schools|Major N|Oth N|Prop N|Vio N|ENGroupA| RangeA|AvgOfMajor N|AvgOfOth N|AvgOfProp N|AvgOfVio N|\n",
      "+-------+--------------------------+--------+-------+-------+-----+------+-----+--------+-------+------------+----------+-----------+----------+\n",
      "|      M|                         5|   508.0|      1|    0.0|  2.0|   2.0|  0.0|      4C|501-750|        0.28|      1.11|       0.75|      0.53|\n",
      "|      M|                         6|   277.0|      2|    1.0|  3.0|   1.0|  3.0|      3C|251-500|        0.27|       0.9|       0.63|      0.44|\n",
      "+-------+--------------------------+--------+-------+-------+-----+------+-----+--------+-------+------------+----------+-----------+----------+\n",
      "only showing top 2 rows\n",
      "\n"
     ]
    }
   ],
   "source": [
    "df4=df['Borough','Geographical District Code','Register','Schools', 'Major N','Oth N','Prop N','Vio N','ENGroupA','RangeA','AvgOfMajor N','AvgOfOth N','AvgOfProp N','AvgOfVio N']\n",
    "df4.show(n=2)"
   ]
  },
  {
   "cell_type": "code",
   "execution_count": 190,
   "metadata": {},
   "outputs": [
    {
     "name": "stdout",
     "output_type": "stream",
     "text": [
      "+-------+--------------------------+--------+-------+-------+-----+------+-----+--------+------+------------+----------+-----------+----------+\n",
      "|Borough|Geographical District Code|Register|Schools|Major N|Oth N|Prop N|Vio N|ENGroupA|RangeA|AvgOfMajor N|AvgOfOth N|AvgOfProp N|AvgOfVio N|\n",
      "+-------+--------------------------+--------+-------+-------+-----+------+-----+--------+------+------------+----------+-----------+----------+\n",
      "|    0.0|                       0.0|    30.0|    0.0|  835.0|835.0| 835.0|835.0|    29.0|  29.0|       838.0|     838.0|      838.0|     838.0|\n",
      "+-------+--------------------------+--------+-------+-------+-----+------+-----+--------+------+------------+----------+-----------+----------+\n",
      "\n"
     ]
    }
   ],
   "source": [
    "rows = df4.count()\n",
    "summary = df4.describe().filter(col(\"summary\") == \"count\")\n",
    "summary.select(*((lit(rows)-col(c)).alias(c) for c in df4.columns)).show()"
   ]
  },
  {
   "cell_type": "code",
   "execution_count": 191,
   "metadata": {
    "scrolled": true
   },
   "outputs": [],
   "source": [
    "df4=df4.na.fill('3C', subset=['ENGroupA'])\n",
    "df4=df4.na.fill('251-500', subset=['RangeA'])"
   ]
  },
  {
   "cell_type": "code",
   "execution_count": 192,
   "metadata": {},
   "outputs": [
    {
     "name": "stdout",
     "output_type": "stream",
     "text": [
      "+-------+--------------------------+--------+-------+-------+-----+------+-----+--------+------+------------+----------+-----------+----------+\n",
      "|Borough|Geographical District Code|Register|Schools|Major N|Oth N|Prop N|Vio N|ENGroupA|RangeA|AvgOfMajor N|AvgOfOth N|AvgOfProp N|AvgOfVio N|\n",
      "+-------+--------------------------+--------+-------+-------+-----+------+-----+--------+------+------------+----------+-----------+----------+\n",
      "|    0.0|                       0.0|    30.0|    0.0|  835.0|835.0| 835.0|835.0|     0.0|   0.0|       838.0|     838.0|      838.0|     838.0|\n",
      "+-------+--------------------------+--------+-------+-------+-----+------+-----+--------+------+------------+----------+-----------+----------+\n",
      "\n"
     ]
    }
   ],
   "source": [
    "rows = df4.count()\n",
    "summary = df4.describe().filter(col(\"summary\") == \"count\")\n",
    "summary.select(*((lit(rows)-col(c)).alias(c) for c in df4.columns)).show()"
   ]
  },
  {
   "cell_type": "code",
   "execution_count": 193,
   "metadata": {},
   "outputs": [
    {
     "data": {
      "text/plain": [
       "[Row(avg(Register)=690.7157738095239)]"
      ]
     },
     "execution_count": 193,
     "metadata": {},
     "output_type": "execute_result"
    }
   ],
   "source": [
    "from pyspark.sql.functions import mean\n",
    "\n",
    "# Let's collect the average. You'll notice that the collection returns the average in an interesting format.\n",
    "mean_Register = df4.select(mean(df4['Register'])).collect()\n",
    "mean_Register"
   ]
  },
  {
   "cell_type": "code",
   "execution_count": 194,
   "metadata": {},
   "outputs": [
    {
     "data": {
      "text/plain": [
       "Row(avg(Register)=690.7157738095239)"
      ]
     },
     "execution_count": 194,
     "metadata": {},
     "output_type": "execute_result"
    }
   ],
   "source": [
    "mean_Register[0]"
   ]
  },
  {
   "cell_type": "code",
   "execution_count": 195,
   "metadata": {},
   "outputs": [],
   "source": [
    "mean_Register[0][0]\n",
    "mean_Register_val = mean_Register[0][0]"
   ]
  },
  {
   "cell_type": "code",
   "execution_count": 196,
   "metadata": {},
   "outputs": [],
   "source": [
    "df4=df4.na.fill(mean_Register_val, subset=['Register'])"
   ]
  },
  {
   "cell_type": "code",
   "execution_count": 197,
   "metadata": {},
   "outputs": [
    {
     "name": "stdout",
     "output_type": "stream",
     "text": [
      "+-------+--------------------------+--------+-------+-------+-----+------+-----+--------+------+------------+----------+-----------+----------+\n",
      "|Borough|Geographical District Code|Register|Schools|Major N|Oth N|Prop N|Vio N|ENGroupA|RangeA|AvgOfMajor N|AvgOfOth N|AvgOfProp N|AvgOfVio N|\n",
      "+-------+--------------------------+--------+-------+-------+-----+------+-----+--------+------+------------+----------+-----------+----------+\n",
      "|    0.0|                       0.0|     0.0|    0.0|  835.0|835.0| 835.0|835.0|     0.0|   0.0|       838.0|     838.0|      838.0|     838.0|\n",
      "+-------+--------------------------+--------+-------+-------+-----+------+-----+--------+------+------------+----------+-----------+----------+\n",
      "\n"
     ]
    }
   ],
   "source": [
    "rows = df4.count()\n",
    "summary = df4.describe().filter(col(\"summary\") == \"count\")\n",
    "summary.select(*((lit(rows)-col(c)).alias(c) for c in df4.columns)).show()"
   ]
  },
  {
   "cell_type": "code",
   "execution_count": 198,
   "metadata": {},
   "outputs": [],
   "source": [
    "#df4.na.fill(0).show()\n",
    "df4 = df4.fillna(0)"
   ]
  },
  {
   "cell_type": "code",
   "execution_count": 211,
   "metadata": {},
   "outputs": [
    {
     "name": "stdout",
     "output_type": "stream",
     "text": [
      "+-------+--------------------------+--------+-------+-------+-----+------+-----+--------+------+------------+----------+-----------+----------+\n",
      "|Borough|Geographical District Code|Register|Schools|Major N|Oth N|Prop N|Vio N|ENGroupA|RangeA|AvgOfMajor N|AvgOfOth N|AvgOfProp N|AvgOfVio N|\n",
      "+-------+--------------------------+--------+-------+-------+-----+------+-----+--------+------+------------+----------+-----------+----------+\n",
      "|    0.0|                       0.0|     0.0|    0.0|    0.0|  0.0|   0.0|  0.0|     0.0|   0.0|         0.0|       0.0|        0.0|       0.0|\n",
      "+-------+--------------------------+--------+-------+-------+-----+------+-----+--------+------+------------+----------+-----------+----------+\n",
      "\n"
     ]
    }
   ],
   "source": [
    "rows = df4.count()\n",
    "summary = df4.describe().filter(col(\"summary\") == \"count\")\n",
    "summary.select(*((lit(rows)-col(c)).alias(c) for c in df4.columns)).show()"
   ]
  },
  {
   "cell_type": "code",
   "execution_count": 217,
   "metadata": {},
   "outputs": [
    {
     "name": "stdout",
     "output_type": "stream",
     "text": [
      "+-------+--------------------------+--------+-------+-------+-----+------+-----+--------+-------+------------+----------+-----------+----------+---------------+\n",
      "|Borough|Geographical District Code|Register|Schools|Major N|Oth N|Prop N|Vio N|ENGroupA| RangeA|AvgOfMajor N|AvgOfOth N|AvgOfProp N|AvgOfVio N|schoolincidents|\n",
      "+-------+--------------------------+--------+-------+-------+-----+------+-----+--------+-------+------------+----------+-----------+----------+---------------+\n",
      "|      M|                         5|   508.0|      1|    0.0|  2.0|   2.0|  0.0|      4C|501-750|        0.28|      1.11|       0.75|      0.53|            4.0|\n",
      "|      M|                         6|   277.0|      2|    1.0|  3.0|   1.0|  3.0|      3C|251-500|        0.27|       0.9|       0.63|      0.44|            8.0|\n",
      "+-------+--------------------------+--------+-------+-------+-----+------+-----+--------+-------+------------+----------+-----------+----------+---------------+\n",
      "only showing top 2 rows\n",
      "\n"
     ]
    }
   ],
   "source": [
    "df5=df4.withColumn(\"schoolincidents\",df4['Major N'] + df4['Oth N']+ df4['Prop N'] + df4['Vio N'])\n",
    "df5.show(n=2)"
   ]
  },
  {
   "cell_type": "code",
   "execution_count": null,
   "metadata": {},
   "outputs": [],
   "source": [
    "dftest1 = spark.read.csv('Datasets/iterat4-1.csv',header=True, inferSchema=True)\n",
    "dftest2 = spark.read.csv('Datasets/iterat4-2.csv',header=True, inferSchema=True)"
   ]
  },
  {
   "cell_type": "code",
   "execution_count": null,
   "metadata": {},
   "outputs": [],
   "source": [
    "from pyspark.sql.functions import monotonically_increasing_id\n",
    "dftest1 = dftest1.withColumn(\"id\", monotonically_increasing_id())\n",
    "dftest2 = dftest2.withColumn(\"id\", monotonically_increasing_id())\n",
    "dftest3 = dftest2.join(dftest1, \"id\", \"outer\").drop(\"id\")"
   ]
  },
  {
   "cell_type": "code",
   "execution_count": null,
   "metadata": {},
   "outputs": [],
   "source": [
    "dftest1.show(n=4)\n",
    "dftest2.show(n=4)\n",
    "dftest3.show(n=4)"
   ]
  },
  {
   "cell_type": "code",
   "execution_count": 216,
   "metadata": {},
   "outputs": [
    {
     "name": "stdout",
     "output_type": "stream",
     "text": [
      "+-------+--------------------------+--------+-------+-------+-----+------+-----+-------+------------+----------+-----------+----------+-------------+\n",
      "|Borough|Geographical District Code|Register|Schools|Major N|Oth N|Prop N|Vio N| RangeA|AvgOfMajor N|AvgOfOth N|AvgOfProp N|AvgOfVio N|ENGroupAIndex|\n",
      "+-------+--------------------------+--------+-------+-------+-----+------+-----+-------+------------+----------+-----------+----------+-------------+\n",
      "|      M|                         5|   508.0|      1|    0.0|  2.0|   2.0|  0.0|501-750|        0.28|      1.11|       0.75|      0.53|          1.0|\n",
      "|      M|                         6|   277.0|      2|    1.0|  3.0|   1.0|  3.0|251-500|        0.27|       0.9|       0.63|      0.44|          0.0|\n",
      "|      X|                         8|   248.0|      2|    0.0|  0.0|   0.0|  0.0|  1-250|         0.0|       0.0|        0.0|       0.0|          3.0|\n",
      "|      X|                         8|   502.0|      1|    0.0|  2.0|   2.0|  0.0|501-750|        0.28|      1.11|       0.75|      0.53|          1.0|\n",
      "+-------+--------------------------+--------+-------+-------+-----+------+-----+-------+------------+----------+-----------+----------+-------------+\n",
      "only showing top 4 rows\n",
      "\n"
     ]
    }
   ],
   "source": [
    "from pyspark.ml.feature import StringIndexer\n",
    "indexer = StringIndexer(inputCol=\"ENGroupA\", outputCol=\"ENGroupAIndex\")\n",
    "df5 = indexer.fit(df4).transform(df4).drop(\"ENGroupA\")\n",
    "df5.show(n=4)"
   ]
  },
  {
   "cell_type": "code",
   "execution_count": 221,
   "metadata": {
    "collapsed": true
   },
   "outputs": [
    {
     "name": "stdout",
     "output_type": "stream",
     "text": [
      "+--------------------------+--------+-------+-------+-----+------+-----+------------+----------+-----------+----------+---------------+-------------+------------+--------------+\n",
      "|Geographical District Code|Register|Schools|Major N|Oth N|Prop N|Vio N|AvgOfMajor N|AvgOfOth N|AvgOfProp N|AvgOfVio N|schoolincidents|Borough_index|RangeA_index|ENGroupA_index|\n",
      "+--------------------------+--------+-------+-------+-----+------+-----+------------+----------+-----------+----------+---------------+-------------+------------+--------------+\n",
      "|                         5|   508.0|      1|    0.0|  2.0|   2.0|  0.0|        0.28|      1.11|       0.75|      0.53|            4.0|          2.0|         1.0|           1.0|\n",
      "|                         6|   277.0|      2|    1.0|  3.0|   1.0|  3.0|        0.27|       0.9|       0.63|      0.44|            8.0|          2.0|         0.0|           0.0|\n",
      "|                         8|   248.0|      2|    0.0|  0.0|   0.0|  0.0|         0.0|       0.0|        0.0|       0.0|            0.0|          1.0|         3.0|           3.0|\n",
      "|                         8|   502.0|      1|    0.0|  2.0|   2.0|  0.0|        0.28|      1.11|       0.75|      0.53|            4.0|          1.0|         1.0|           1.0|\n",
      "|                         8|   604.0|      1|    1.0|  0.0|   1.0|  0.0|        0.28|      1.11|       0.75|      0.53|            2.0|          1.0|         1.0|           1.0|\n",
      "|                        12|   210.0|      3|    0.0|  0.0|   0.0|  0.0|         0.0|       0.0|        0.0|       0.0|            0.0|          1.0|         3.0|           3.0|\n",
      "|                        11|   296.0|      3|    0.0|  0.0|   0.0|  0.0|         0.0|       0.0|        0.0|       0.0|            0.0|          1.0|         0.0|           0.0|\n",
      "|                        12|   387.0|      4|    0.0|  0.0|   0.0|  0.0|         0.0|       0.0|        0.0|       0.0|            0.0|          1.0|         0.0|           0.0|\n",
      "|                        12|   288.0|      4|    0.0|  0.0|   0.0|  0.0|         0.0|       0.0|        0.0|       0.0|            0.0|          1.0|         0.0|           0.0|\n",
      "|                        12|  1463.0|      4|    2.0|  4.0|   1.0|  5.0|        0.64|      3.02|       1.72|      1.54|           12.0|          1.0|         5.0|           5.0|\n",
      "|                        12|   240.0|      3|    0.0|  0.0|   0.0|  0.0|         0.0|       0.0|        0.0|       0.0|            0.0|          1.0|         3.0|           3.0|\n",
      "|                         5|   389.0|      1|    0.0|  1.0|   1.0|  0.0|        0.27|       0.9|       0.63|      0.44|            2.0|          2.0|         0.0|           0.0|\n",
      "|                         4|   263.0|      1|    0.0|  1.0|   1.0|  0.0|        0.27|       0.9|       0.63|      0.44|            2.0|          2.0|         0.0|           0.0|\n",
      "|                        13|   500.0|      1|    0.0|  0.0|   0.0|  0.0|        0.27|       0.9|       0.63|      0.44|            0.0|          0.0|         0.0|           0.0|\n",
      "|                        20|   590.0|      1|    0.0|  0.0|   0.0|  0.0|        0.28|      1.11|       0.75|      0.53|            0.0|          0.0|         1.0|           1.0|\n",
      "|                         3|   479.0|      2|    0.0|  0.0|   0.0|  0.0|         0.0|       0.0|        0.0|       0.0|            0.0|          2.0|         0.0|           0.0|\n",
      "|                        22|   346.0|      2|    0.0|  0.0|   0.0|  0.0|         0.0|       0.0|        0.0|       0.0|            0.0|          0.0|         0.0|           0.0|\n",
      "|                         2|   212.0|      2|    0.0|  0.0|   0.0|  0.0|         0.0|       0.0|        0.0|       0.0|            0.0|          2.0|         3.0|           3.0|\n",
      "|                        15|   201.0|      1|    1.0|  2.0|   2.0|  0.0|        0.24|      0.71|       0.51|      0.32|            5.0|          0.0|         3.0|           3.0|\n",
      "|                         1|   127.0|      2|    0.0|  0.0|   0.0|  0.0|         0.0|       0.0|        0.0|       0.0|            0.0|          2.0|         3.0|           3.0|\n",
      "+--------------------------+--------+-------+-------+-----+------+-----+------------+----------+-----------+----------+---------------+-------------+------------+--------------+\n",
      "only showing top 20 rows\n",
      "\n"
     ]
    }
   ],
   "source": [
    "from pyspark.ml import Pipeline\n",
    "from pyspark.ml.feature import StringIndexer\n",
    "\n",
    "indexers = [StringIndexer(inputCol=column, outputCol=column+\"_index\").fit(df5) for column in list(set(df5.columns)-set(['Geographical District Code'])-set(['Register'])-set(['Schools'])-set(['Major N'])-set(['Oth N'])-set(['Prop N'])-set(['Vio N'])-set(['AvgOfMajor N'])-set(['AvgOfOth N'])-set(['AvgOfProp N'])-set(['AvgOfVio N'])-set(['schoolincidents'])) ]\n",
    "\n",
    "\n",
    "pipeline = Pipeline(stages=indexers)\n",
    "df6 = pipeline.fit(df5).transform(df5).drop('Borough','RangeA','ENGroupA')\n",
    "\n",
    "df6.show()"
   ]
  },
  {
   "cell_type": "code",
   "execution_count": 222,
   "metadata": {},
   "outputs": [
    {
     "name": "stdout",
     "output_type": "stream",
     "text": [
      "+-------------+------------+--------------+\n",
      "|Borough_index|RangeA_index|ENGroupA_index|\n",
      "+-------------+------------+--------------+\n",
      "|          2.0|         1.0|           1.0|\n",
      "|          2.0|         0.0|           0.0|\n",
      "|          1.0|         3.0|           3.0|\n",
      "|          1.0|         1.0|           1.0|\n",
      "|          1.0|         1.0|           1.0|\n",
      "|          1.0|         3.0|           3.0|\n",
      "|          1.0|         0.0|           0.0|\n",
      "|          1.0|         0.0|           0.0|\n",
      "|          1.0|         0.0|           0.0|\n",
      "|          1.0|         5.0|           5.0|\n",
      "|          1.0|         3.0|           3.0|\n",
      "|          2.0|         0.0|           0.0|\n",
      "|          2.0|         0.0|           0.0|\n",
      "|          0.0|         0.0|           0.0|\n",
      "|          0.0|         1.0|           1.0|\n",
      "|          2.0|         0.0|           0.0|\n",
      "|          0.0|         0.0|           0.0|\n",
      "|          2.0|         3.0|           3.0|\n",
      "|          0.0|         3.0|           3.0|\n",
      "|          2.0|         3.0|           3.0|\n",
      "+-------------+------------+--------------+\n",
      "only showing top 20 rows\n",
      "\n"
     ]
    }
   ],
   "source": [
    "df6.select('Borough_index','RangeA_index','ENGroupA_index').show()"
   ]
  },
  {
   "cell_type": "code",
   "execution_count": 223,
   "metadata": {},
   "outputs": [
    {
     "name": "stdout",
     "output_type": "stream",
     "text": [
      "root\n",
      " |-- Borough: string (nullable = true)\n",
      " |-- Geographical District Code: integer (nullable = true)\n",
      " |-- Register: double (nullable = false)\n",
      " |-- Schools: integer (nullable = true)\n",
      " |-- Major N: double (nullable = false)\n",
      " |-- Oth N: double (nullable = false)\n",
      " |-- Prop N: double (nullable = false)\n",
      " |-- Vio N: double (nullable = false)\n",
      " |-- ENGroupA: string (nullable = false)\n",
      " |-- RangeA: string (nullable = false)\n",
      " |-- AvgOfMajor N: double (nullable = false)\n",
      " |-- AvgOfOth N: double (nullable = false)\n",
      " |-- AvgOfProp N: double (nullable = false)\n",
      " |-- AvgOfVio N: double (nullable = false)\n",
      " |-- schoolincidents: double (nullable = false)\n",
      "\n",
      "root\n",
      " |-- Geographical District Code: integer (nullable = true)\n",
      " |-- Register: double (nullable = false)\n",
      " |-- Schools: integer (nullable = true)\n",
      " |-- Major N: double (nullable = false)\n",
      " |-- Oth N: double (nullable = false)\n",
      " |-- Prop N: double (nullable = false)\n",
      " |-- Vio N: double (nullable = false)\n",
      " |-- AvgOfMajor N: double (nullable = false)\n",
      " |-- AvgOfOth N: double (nullable = false)\n",
      " |-- AvgOfProp N: double (nullable = false)\n",
      " |-- AvgOfVio N: double (nullable = false)\n",
      " |-- schoolincidents: double (nullable = false)\n",
      " |-- Borough_index: double (nullable = true)\n",
      " |-- RangeA_index: double (nullable = true)\n",
      " |-- ENGroupA_index: double (nullable = true)\n",
      "\n"
     ]
    }
   ],
   "source": [
    "df5.printSchema()\n",
    "df6.printSchema()"
   ]
  },
  {
   "cell_type": "code",
   "execution_count": 227,
   "metadata": {},
   "outputs": [
    {
     "name": "stdout",
     "output_type": "stream",
     "text": [
      "+--------+-----+\n",
      "|features|label|\n",
      "+--------+-----+\n",
      "|   [1.0]|  4.0|\n",
      "|   [0.0]|  8.0|\n",
      "|   [3.0]|  0.0|\n",
      "|   [1.0]|  4.0|\n",
      "|   [1.0]|  2.0|\n",
      "|   [3.0]|  0.0|\n",
      "|   [0.0]|  0.0|\n",
      "|   [0.0]|  0.0|\n",
      "|   [0.0]|  0.0|\n",
      "|   [5.0]| 12.0|\n",
      "|   [3.0]|  0.0|\n",
      "|   [0.0]|  2.0|\n",
      "|   [0.0]|  2.0|\n",
      "|   [0.0]|  0.0|\n",
      "|   [1.0]|  0.0|\n",
      "|   [0.0]|  0.0|\n",
      "|   [0.0]|  0.0|\n",
      "|   [3.0]|  0.0|\n",
      "|   [3.0]|  5.0|\n",
      "|   [3.0]|  0.0|\n",
      "+--------+-----+\n",
      "only showing top 20 rows\n",
      "\n"
     ]
    }
   ],
   "source": [
    "from pyspark.ml.feature import RFormula\n",
    "formula = RFormula(\n",
    "    formula=\"schoolincidents ~ ENGroupA_index\",\n",
    "    featuresCol=\"features\",\n",
    "    labelCol=\"label\")\n",
    "\n",
    "output = formula.fit(df6).transform(df6)\n",
    "output.select(\"features\", \"label\").show()"
   ]
  },
  {
   "cell_type": "code",
   "execution_count": null,
   "metadata": {},
   "outputs": [],
   "source": [
    "from pyspark.ml import Pipeline\n",
    "from pyspark.ml.classification import LogisticRegression\n",
    "from pyspark.ml.feature import HashingTF, Tokenizer\n",
    "tokenizer = Tokenizer(inputCol=\"text\", outputCol=\"words\")\n",
    "hashingTF = HashingTF(inputCol=tokenizer.getOutputCol(), outputCol=\"features\")\n",
    "lr = LogisticRegression(maxIter=10, regParam=0.001)\n",
    "pipeline = Pipeline(stages=[tokenizer, hashingTF, lr])"
   ]
  }
 ],
 "metadata": {
  "kernelspec": {
   "display_name": "Python 3",
   "language": "python",
   "name": "python3"
  },
  "language_info": {
   "codemirror_mode": {
    "name": "ipython",
    "version": 3
   },
   "file_extension": ".py",
   "mimetype": "text/x-python",
   "name": "python",
   "nbconvert_exporter": "python",
   "pygments_lexer": "ipython3",
   "version": "3.5.2"
  }
 },
 "nbformat": 4,
 "nbformat_minor": 2
}
