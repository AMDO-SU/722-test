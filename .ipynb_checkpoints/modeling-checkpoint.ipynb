{
 "cells": [
  {
   "cell_type": "code",
   "execution_count": 1,
   "metadata": {},
   "outputs": [],
   "source": [
    "# Must be inhttps://54.226.20.156:8888/notebooks/722-test/Schoolsafety.ipynb#cluded at the beginning of each new notebook. Remember to change the app name.\n",
    "import findspark\n",
    "findspark.init('/home/ubuntu/spark-2.1.1-bin-hadoop2.7')\n",
    "import pyspark\n",
    "from pyspark.sql import SparkSession\n",
    "spark = SparkSession.builder.appName('basics').getOrCreate()"
   ]
  },
  {
   "cell_type": "code",
   "execution_count": 2,
   "metadata": {},
   "outputs": [],
   "source": [
    "df = spark.read.csv('Datasets/iterat4.csv',header=True, inferSchema=True)"
   ]
  },
  {
   "cell_type": "code",
   "execution_count": 3,
   "metadata": {},
   "outputs": [
    {
     "name": "stdout",
     "output_type": "stream",
     "text": [
      "+---+-----------+--------------------+-------------+-------+--------------------------+--------+-------------+-------+--------------+--------------+--------------------+-------+-----+--------+------+-----+--------+-------+------------+----------+-------------+-----------+----------+--------+---------+----------+---------------+----------------+------------+---------+-------------+--------------------+\n",
      "|_c0|School Year|       Location Name|Location Code|Borough|Geographical District Code|Register|Building Name|Schools|NYPD Site Code|NYPD Site Name| Schools in Building|Major N|Oth N|NoCrim N|Prop N|Vio N|ENGroupA| RangeA|AvgOfMajor N|AvgOfOth N|AvgOfNoCrim N|AvgOfProp N|AvgOfVio N|Postcode| Latitude| Longitude|Community Board|Council District|Census Tract|      BIN|          BBL|                 NTA|\n",
      "+---+-----------+--------------------+-------------+-------+--------------------------+--------+-------------+-------+--------------+--------------+--------------------+-------+-----+--------+------+-----+--------+-------+------------+----------+-------------+-----------+----------+--------+---------+----------+---------------+----------------+------------+---------+-------------+--------------------+\n",
      "|  0|  2016 - 17|P.S. M079 - Horan...|         M079|      M|                         5|   508.0|         null|      1|         657.0|       IS 070M|P.S. 076 A. Phili...|    0.0|  2.0|     2.0|   2.0|  0.0|      4C|501-750|        0.28|      1.11|         1.74|       0.75|      0.53| 10035.0|40.802419|-73.942634|           11.0|             9.0|       198.0|1053968.0|1.017470001E9|East Harlem North...|\n",
      "|  1|  2016 - 17|P.S./I.S. 210 - T...|         M210|      M|                         6|   277.0|         null|      2|         701.0|    PS/IS 089M|P.S. 092 Mary McL...|    1.0|  3.0|     2.0|   1.0|  3.0|      3C|251-500|        0.27|       0.9|         1.67|       0.63|      0.44| 10031.0|40.829832|-73.944789|            9.0|             7.0|       237.0|1087824.0|1.020840129E9|Hamilton Heights ...|\n",
      "+---+-----------+--------------------+-------------+-------+--------------------------+--------+-------------+-------+--------------+--------------+--------------------+-------+-----+--------+------+-----+--------+-------+------------+----------+-------------+-----------+----------+--------+---------+----------+---------------+----------------+------------+---------+-------------+--------------------+\n",
      "only showing top 2 rows\n",
      "\n",
      "root\n",
      " |-- _c0: integer (nullable = true)\n",
      " |-- School Year: string (nullable = true)\n",
      " |-- Location Name: string (nullable = true)\n",
      " |-- Location Code: string (nullable = true)\n",
      " |-- Borough: string (nullable = true)\n",
      " |-- Geographical District Code: integer (nullable = true)\n",
      " |-- Register: double (nullable = true)\n",
      " |-- Building Name: string (nullable = true)\n",
      " |-- Schools: integer (nullable = true)\n",
      " |-- NYPD Site Code: double (nullable = true)\n",
      " |-- NYPD Site Name: string (nullable = true)\n",
      " |-- Schools in Building: string (nullable = true)\n",
      " |-- Major N: double (nullable = true)\n",
      " |-- Oth N: double (nullable = true)\n",
      " |-- NoCrim N: double (nullable = true)\n",
      " |-- Prop N: double (nullable = true)\n",
      " |-- Vio N: double (nullable = true)\n",
      " |-- ENGroupA: string (nullable = true)\n",
      " |-- RangeA: string (nullable = true)\n",
      " |-- AvgOfMajor N: double (nullable = true)\n",
      " |-- AvgOfOth N: double (nullable = true)\n",
      " |-- AvgOfNoCrim N: double (nullable = true)\n",
      " |-- AvgOfProp N: double (nullable = true)\n",
      " |-- AvgOfVio N: double (nullable = true)\n",
      " |-- Postcode: double (nullable = true)\n",
      " |-- Latitude: double (nullable = true)\n",
      " |-- Longitude: double (nullable = true)\n",
      " |-- Community Board: double (nullable = true)\n",
      " |-- Council District: double (nullable = true)\n",
      " |-- Census Tract: double (nullable = true)\n",
      " |-- BIN: double (nullable = true)\n",
      " |-- BBL: double (nullable = true)\n",
      " |-- NTA: string (nullable = true)\n",
      "\n"
     ]
    }
   ],
   "source": [
    "df.show(n=2)\n",
    "df.columns\n",
    "df.printSchema()"
   ]
  },
  {
   "cell_type": "code",
   "execution_count": 4,
   "metadata": {},
   "outputs": [
    {
     "name": "stdout",
     "output_type": "stream",
     "text": [
      "+--------+-------+-------+\n",
      "|Register|Borough|Major N|\n",
      "+--------+-------+-------+\n",
      "|   508.0|      M|    0.0|\n",
      "|   277.0|      M|    1.0|\n",
      "|   248.0|      X|   null|\n",
      "|   502.0|      X|    0.0|\n",
      "|   604.0|      X|    1.0|\n",
      "|   210.0|      X|   null|\n",
      "|   296.0|      X|   null|\n",
      "|   387.0|      X|   null|\n",
      "|   288.0|      X|   null|\n",
      "|  1463.0|      X|    2.0|\n",
      "|   240.0|      X|   null|\n",
      "|   389.0|      M|    0.0|\n",
      "|   263.0|      M|    0.0|\n",
      "|   500.0|      K|    0.0|\n",
      "|   590.0|      K|    0.0|\n",
      "|   479.0|      M|   null|\n",
      "|   346.0|      K|   null|\n",
      "|   212.0|      M|   null|\n",
      "|   201.0|      K|    1.0|\n",
      "|   127.0|      M|   null|\n",
      "+--------+-------+-------+\n",
      "only showing top 20 rows\n",
      "\n"
     ]
    }
   ],
   "source": [
    "from pyspark.sql.functions import lit\n",
    "from pyspark.sql.functions import col\n",
    "# We can also select various columns from a DataFrame. \n",
    "df.select('Register','Borough','Major N').show(n=20)\n",
    "df2=df['Borough','Geographical District Code','Register','Schools', 'Major N','Oth N','Prop N','Vio N','ENGroupA','RangeA','AvgOfMajor N','AvgOfOth N','AvgOfProp N','AvgOfVio N']\n",
    "df3=df2.na.fill('3C', subset=['ENGroupA'])\n",
    "df4=df3.na.fill('251-500', subset=['RangeA'])\n",
    "from pyspark.sql.functions import mean\n"
   ]
  },
  {
   "cell_type": "code",
   "execution_count": 5,
   "metadata": {},
   "outputs": [
    {
     "name": "stdout",
     "output_type": "stream",
     "text": [
      "+-------+--------------------------+--------+-------+-------+-----+------+-----+--------+------+------------+----------+-----------+----------+\n",
      "|Borough|Geographical District Code|Register|Schools|Major N|Oth N|Prop N|Vio N|ENGroupA|RangeA|AvgOfMajor N|AvgOfOth N|AvgOfProp N|AvgOfVio N|\n",
      "+-------+--------------------------+--------+-------+-------+-----+------+-----+--------+------+------------+----------+-----------+----------+\n",
      "|    0.0|                       0.0|     0.0|    0.0|  835.0|835.0| 835.0|835.0|     0.0|   0.0|       838.0|     838.0|      838.0|     838.0|\n",
      "+-------+--------------------------+--------+-------+-------+-----+------+-----+--------+------+------------+----------+-----------+----------+\n",
      "\n"
     ]
    }
   ],
   "source": [
    "# Let's collect the average. You'll notice that the collection returns the average in an interesting format.\n",
    "mean_Register = df4.select(mean(df4['Register'])).collect()\n",
    "mean_Register[0]\n",
    "mean_Register[0][0]\n",
    "mean_Register_val = mean_Register[0][0]\n",
    "df5=df4.na.fill(mean_Register_val, subset=['Register'])\n",
    "rows = df5.count()\n",
    "summary = df5.describe().filter(col(\"summary\") == \"count\")\n",
    "summary.select(*((lit(rows)-col(c)).alias(c) for c in df5.columns)).show()"
   ]
  },
  {
   "cell_type": "code",
   "execution_count": 6,
   "metadata": {
    "scrolled": true
   },
   "outputs": [
    {
     "name": "stdout",
     "output_type": "stream",
     "text": [
      "+------------+\n",
      "|schoolsafety|\n",
      "+------------+\n",
      "|           0|\n",
      "|           0|\n",
      "|           1|\n",
      "|           0|\n",
      "|           1|\n",
      "|           1|\n",
      "|           1|\n",
      "|           1|\n",
      "|           1|\n",
      "|           0|\n",
      "|           1|\n",
      "|           1|\n",
      "|           1|\n",
      "|           1|\n",
      "|           1|\n",
      "|           1|\n",
      "|           1|\n",
      "|           1|\n",
      "|           0|\n",
      "|           1|\n",
      "+------------+\n",
      "only showing top 20 rows\n",
      "\n",
      "+-------+--------------------------+--------+-------+-------+-----+------+-----+--------+-------+------------+----------+-----------+----------+------------+\n",
      "|Borough|Geographical District Code|Register|Schools|Major N|Oth N|Prop N|Vio N|ENGroupA| RangeA|AvgOfMajor N|AvgOfOth N|AvgOfProp N|AvgOfVio N|schoolsafety|\n",
      "+-------+--------------------------+--------+-------+-------+-----+------+-----+--------+-------+------------+----------+-----------+----------+------------+\n",
      "|      M|                         5|   508.0|      1|    0.0|  2.0|   2.0|  0.0|      4C|501-750|        0.28|      1.11|       0.75|      0.53|           0|\n",
      "|      M|                         6|   277.0|      2|    1.0|  3.0|   1.0|  3.0|      3C|251-500|        0.27|       0.9|       0.63|      0.44|           0|\n",
      "|      X|                         8|   248.0|      2|    0.0|  0.0|   0.0|  0.0|      2C|  1-250|         0.0|       0.0|        0.0|       0.0|           1|\n",
      "+-------+--------------------------+--------+-------+-------+-----+------+-----+--------+-------+------------+----------+-----------+----------+------------+\n",
      "only showing top 3 rows\n",
      "\n"
     ]
    }
   ],
   "source": [
    "df6 = df5.fillna(0)\n",
    "from pyspark.sql import functions as fs\n",
    "df7=df6.withColumn(\"schoolsafety\",fs.when((df6['Major N'] + df6['Oth N']+ df6['Prop N'] + df6['Vio N'])>2,0).otherwise(1))\n",
    "df7.select('schoolsafety').show()\n",
    "df7.show(n=3)"
   ]
  },
  {
   "cell_type": "code",
   "execution_count": 7,
   "metadata": {
    "scrolled": true
   },
   "outputs": [
    {
     "name": "stdout",
     "output_type": "stream",
     "text": [
      "+--------------------------+--------+-------+------------+------------+-------------+--------------+\n",
      "|Geographical District Code|Register|Schools|schoolsafety|RangeA_index|Borough_index|ENGroupA_index|\n",
      "+--------------------------+--------+-------+------------+------------+-------------+--------------+\n",
      "|                         5|   508.0|      1|           0|         1.0|          2.0|           1.0|\n",
      "|                         6|   277.0|      2|           0|         0.0|          2.0|           0.0|\n",
      "|                         8|   248.0|      2|           1|         3.0|          1.0|           3.0|\n",
      "|                         8|   502.0|      1|           0|         1.0|          1.0|           1.0|\n",
      "|                         8|   604.0|      1|           1|         1.0|          1.0|           1.0|\n",
      "|                        12|   210.0|      3|           1|         3.0|          1.0|           3.0|\n",
      "|                        11|   296.0|      3|           1|         0.0|          1.0|           0.0|\n",
      "|                        12|   387.0|      4|           1|         0.0|          1.0|           0.0|\n",
      "|                        12|   288.0|      4|           1|         0.0|          1.0|           0.0|\n",
      "|                        12|  1463.0|      4|           0|         5.0|          1.0|           5.0|\n",
      "|                        12|   240.0|      3|           1|         3.0|          1.0|           3.0|\n",
      "|                         5|   389.0|      1|           1|         0.0|          2.0|           0.0|\n",
      "|                         4|   263.0|      1|           1|         0.0|          2.0|           0.0|\n",
      "|                        13|   500.0|      1|           1|         0.0|          0.0|           0.0|\n",
      "|                        20|   590.0|      1|           1|         1.0|          0.0|           1.0|\n",
      "|                         3|   479.0|      2|           1|         0.0|          2.0|           0.0|\n",
      "|                        22|   346.0|      2|           1|         0.0|          0.0|           0.0|\n",
      "|                         2|   212.0|      2|           1|         3.0|          2.0|           3.0|\n",
      "|                        15|   201.0|      1|           0|         3.0|          0.0|           3.0|\n",
      "|                         1|   127.0|      2|           1|         3.0|          2.0|           3.0|\n",
      "+--------------------------+--------+-------+------------+------------+-------------+--------------+\n",
      "only showing top 20 rows\n",
      "\n"
     ]
    }
   ],
   "source": [
    "from pyspark.ml import Pipeline\n",
    "from pyspark.ml.feature import StringIndexer\n",
    "indexers = [StringIndexer(inputCol=column, outputCol=column+\"_index\").fit(df7) for column in list(set(df7.columns)-set(['Geographical District Code'])-set(['Register'])-set(['Schools'])-set(['Major N'])-set(['Oth N'])-set(['Prop N'])-set(['Vio N'])-set(['AvgOfMajor N'])-set(['AvgOfOth N'])-set(['AvgOfProp N'])-set(['AvgOfVio N'])-set(['schoolsafety'])) ]\n",
    "pipeline = Pipeline(stages=indexers)\n",
    "df8 = pipeline.fit(df7).transform(df7).drop('Borough','RangeA','ENGroupA','Major N','Oth N','Prop N','Vio N','AvgOfMajor N','AvgOfOth N','AvgOfProp N','AvgOfVio N')\n",
    "df8.show()"
   ]
  },
  {
   "cell_type": "code",
   "execution_count": 8,
   "metadata": {},
   "outputs": [
    {
     "name": "stdout",
     "output_type": "stream",
     "text": [
      "root\n",
      " |-- Borough: string (nullable = true)\n",
      " |-- Geographical District Code: integer (nullable = true)\n",
      " |-- Register: double (nullable = false)\n",
      " |-- Schools: integer (nullable = true)\n",
      " |-- Major N: double (nullable = false)\n",
      " |-- Oth N: double (nullable = false)\n",
      " |-- Prop N: double (nullable = false)\n",
      " |-- Vio N: double (nullable = false)\n",
      " |-- ENGroupA: string (nullable = false)\n",
      " |-- RangeA: string (nullable = false)\n",
      " |-- AvgOfMajor N: double (nullable = false)\n",
      " |-- AvgOfOth N: double (nullable = false)\n",
      " |-- AvgOfProp N: double (nullable = false)\n",
      " |-- AvgOfVio N: double (nullable = false)\n",
      " |-- schoolsafety: integer (nullable = false)\n",
      "\n",
      "root\n",
      " |-- Geographical District Code: integer (nullable = true)\n",
      " |-- Register: double (nullable = false)\n",
      " |-- Schools: integer (nullable = true)\n",
      " |-- schoolsafety: integer (nullable = false)\n",
      " |-- RangeA_index: double (nullable = true)\n",
      " |-- Borough_index: double (nullable = true)\n",
      " |-- ENGroupA_index: double (nullable = true)\n",
      "\n"
     ]
    }
   ],
   "source": [
    "df7.printSchema()\n",
    "df8.printSchema()"
   ]
  },
  {
   "cell_type": "code",
   "execution_count": 9,
   "metadata": {},
   "outputs": [],
   "source": [
    "from pyspark.ml.feature import (VectorAssembler,VectorIndexer,\n",
    "                                OneHotEncoder,StringIndexer)\n",
    "assembler = VectorAssembler(inputCols=['Geographical District Code',\n",
    " 'Register',\n",
    " 'Schools',\n",
    "'ENGroupA_index',\n",
    "'RangeA_index',\n",
    "'Borough_index'],outputCol='features')"
   ]
  },
  {
   "cell_type": "code",
   "execution_count": 10,
   "metadata": {},
   "outputs": [
    {
     "name": "stdout",
     "output_type": "stream",
     "text": [
      "+--------------------+------------+\n",
      "|            features|schoolsafety|\n",
      "+--------------------+------------+\n",
      "|[5.0,508.0,1.0,1....|           0|\n",
      "|[6.0,277.0,2.0,0....|           0|\n",
      "|[8.0,248.0,2.0,3....|           1|\n",
      "|[8.0,502.0,1.0,1....|           0|\n",
      "+--------------------+------------+\n",
      "only showing top 4 rows\n",
      "\n"
     ]
    }
   ],
   "source": [
    "output = assembler.transform(df8)\n",
    "final_data = output.select(\"features\",'schoolsafety')\n",
    "final_data.show(4)"
   ]
  },
  {
   "cell_type": "code",
   "execution_count": 11,
   "metadata": {},
   "outputs": [
    {
     "name": "stdout",
     "output_type": "stream",
     "text": [
      "+--------------------+--------------------+\n",
      "|            features|     Scaled_features|\n",
      "+--------------------+--------------------+\n",
      "|[5.0,508.0,1.0,1....|[0.54072056151639...|\n",
      "|[6.0,277.0,2.0,0....|[0.64886467381967...|\n",
      "|[8.0,248.0,2.0,3....|[0.86515289842623...|\n",
      "|[8.0,502.0,1.0,1....|[0.86515289842623...|\n",
      "|[8.0,604.0,1.0,1....|[0.86515289842623...|\n",
      "+--------------------+--------------------+\n",
      "only showing top 5 rows\n",
      "\n"
     ]
    }
   ],
   "source": [
    "from pyspark.ml.feature import StandardScaler\n",
    "standardscaler=StandardScaler().setInputCol(\"features\").setOutputCol(\"Scaled_features\")\n",
    "raw_data=standardscaler.fit(final_data).transform(final_data)\n",
    "raw_data.select(\"features\",\"Scaled_features\").show(5)"
   ]
  },
  {
   "cell_type": "code",
   "execution_count": 12,
   "metadata": {},
   "outputs": [
    {
     "name": "stdout",
     "output_type": "stream",
     "text": [
      "The number of ones are 352\n",
      "Percentage of ones are 21.95882719900187\n"
     ]
    }
   ],
   "source": [
    "train, test = raw_data.randomSplit([0.8, 0.2], seed=12345)\n",
    "dataset_size=float(train.select(\"schoolsafety\").count())\n",
    "numPositives=train.select(\"schoolsafety\").where('schoolsafety == 0').count()\n",
    "per_ones=(float(numPositives)/float(dataset_size))*100\n",
    "numNegatives=float(dataset_size-numPositives)\n",
    "print('The number of ones are {}'.format(numPositives))\n",
    "print('Percentage of ones are {}'.format(per_ones))"
   ]
  },
  {
   "cell_type": "code",
   "execution_count": 13,
   "metadata": {},
   "outputs": [
    {
     "name": "stdout",
     "output_type": "stream",
     "text": [
      "Training Dataset count: 1603\n",
      "Test Dataset count: 443\n"
     ]
    }
   ],
   "source": [
    "print(\"Training Dataset count: \"+ str(train.count()))\n",
    "print(\"Test Dataset count: \"+ str(test.count()))"
   ]
  },
  {
   "cell_type": "code",
   "execution_count": 14,
   "metadata": {},
   "outputs": [
    {
     "name": "stdout",
     "output_type": "stream",
     "text": [
      "BalancingRatio = 0.7804117280099813\n"
     ]
    }
   ],
   "source": [
    "BalancingRatio= numNegatives/dataset_size\n",
    "print('BalancingRatio = {}'.format(BalancingRatio))"
   ]
  },
  {
   "cell_type": "code",
   "execution_count": 15,
   "metadata": {},
   "outputs": [
    {
     "name": "stdout",
     "output_type": "stream",
     "text": [
      "+-------------------+\n",
      "|       classWeights|\n",
      "+-------------------+\n",
      "|0.21958827199001874|\n",
      "|0.21958827199001874|\n",
      "|0.21958827199001874|\n",
      "|0.21958827199001874|\n",
      "|0.21958827199001874|\n",
      "+-------------------+\n",
      "only showing top 5 rows\n",
      "\n"
     ]
    }
   ],
   "source": [
    "import numpy as np\n",
    "from pyspark.sql.functions import when\n",
    "train=train.withColumn(\"classWeights\", when(train.schoolsafety == 0,BalancingRatio).otherwise(1-BalancingRatio))\n",
    "train.select(\"classWeights\").show(5)"
   ]
  },
  {
   "cell_type": "code",
   "execution_count": 16,
   "metadata": {},
   "outputs": [
    {
     "name": "stdout",
     "output_type": "stream",
     "text": [
      "+------------------------------------------------------------------------------------------------------------------+\n",
      "|Aspects                                                                                                           |\n",
      "+------------------------------------------------------------------------------------------------------------------+\n",
      "|[0.10814411230327896,0.3728110994325397,2.106265444226514,1.3966771402136304,1.389160361199677,1.617962252238151] |\n",
      "|[0.10814411230327896,0.4276362611137955,2.808353925635352,1.3966771402136304,1.389160361199677,1.617962252238151] |\n",
      "|[0.10814411230327896,0.45139383117567305,2.106265444226514,1.3966771402136304,1.389160361199677,1.617962252238151]|\n",
      "|[0.10814411230327896,0.6049042838831894,2.106265444226514,0.0,0.0,1.617962252238151]                              |\n",
      "|[0.10814411230327896,0.6834870156263227,2.106265444226514,0.0,0.0,1.617962252238151]                              |\n",
      "+------------------------------------------------------------------------------------------------------------------+\n",
      "only showing top 5 rows\n",
      "\n"
     ]
    }
   ],
   "source": [
    "from pyspark.ml.feature import ChiSqSelector\n",
    "css = ChiSqSelector(featuresCol='Scaled_features',outputCol='Aspects',labelCol='schoolsafety',fpr=0.1)\n",
    "train=css.fit(train).transform(train)\n",
    "test=css.fit(test).transform(test)\n",
    "test.select(\"Aspects\").show(5,truncate=False)"
   ]
  },
  {
   "cell_type": "code",
   "execution_count": 17,
   "metadata": {},
   "outputs": [
    {
     "name": "stdout",
     "output_type": "stream",
     "text": [
      "+------------+----------+\n",
      "|schoolsafety|prediction|\n",
      "+------------+----------+\n",
      "|           1|       1.0|\n",
      "|           1|       1.0|\n",
      "|           1|       1.0|\n",
      "|           1|       1.0|\n",
      "|           1|       1.0|\n",
      "|           0|       1.0|\n",
      "|           1|       0.0|\n",
      "|           1|       1.0|\n",
      "|           1|       1.0|\n",
      "|           1|       1.0|\n",
      "+------------+----------+\n",
      "only showing top 10 rows\n",
      "\n"
     ]
    }
   ],
   "source": [
    "from pyspark.ml.classification import LogisticRegression\n",
    "lr = LogisticRegression(labelCol=\"schoolsafety\", featuresCol=\"Aspects\",weightCol=\"classWeights\",maxIter=100)\n",
    "model=lr.fit(train)\n",
    "predict_train=model.transform(train)\n",
    "predict_test=model.transform(test)\n",
    "predict_test.select(\"schoolsafety\",\"prediction\").show(10)\n"
   ]
  },
  {
   "cell_type": "code",
   "execution_count": 18,
   "metadata": {},
   "outputs": [
    {
     "name": "stdout",
     "output_type": "stream",
     "text": [
      "+------------+--------------------+----------+--------------------+\n",
      "|schoolsafety|       rawPrediction|prediction|         probability|\n",
      "+------------+--------------------+----------+--------------------+\n",
      "|           1|[-0.9941080845879...|       1.0|[0.27010141808745...|\n",
      "|           1|[-1.3164421107224...|       1.0|[0.21141084257188...|\n",
      "|           1|[-0.9069890851867...|       1.0|[0.28761635847304...|\n",
      "|           1|[-1.0876347982392...|       1.0|[0.25206392290279...|\n",
      "|           1|[-1.0005157988379...|       1.0|[0.26884002125038...|\n",
      "+------------+--------------------+----------+--------------------+\n",
      "only showing top 5 rows\n",
      "\n",
      "The area under ROC for train set is 0.805456770946879\n",
      "The area under ROC for test set is 0.804140650673677\n"
     ]
    }
   ],
   "source": [
    "from pyspark.ml.evaluation import BinaryClassificationEvaluator\n",
    "evaluator=BinaryClassificationEvaluator(rawPredictionCol='rawPrediction',labelCol='schoolsafety')\n",
    "predict_test.select(\"schoolsafety\",\"rawPrediction\",\"prediction\",\"probability\").show(5)\n",
    "print(\"The area under ROC for train set is {}\".format(evaluator.evaluate(predict_train)))\n",
    "print(\"The area under ROC for test set is {}\".format(evaluator.evaluate(predict_test)))"
   ]
  },
  {
   "cell_type": "code",
   "execution_count": 19,
   "metadata": {},
   "outputs": [
    {
     "name": "stdout",
     "output_type": "stream",
     "text": [
      "Training Dataset count: 1643\n",
      "Test Dataset count: 403\n"
     ]
    }
   ],
   "source": [
    "from pyspark.ml.classification import LogisticRegression\n",
    "train_data,test_data = final_data.randomSplit([0.8,0.2])\n",
    "print(\"Training Dataset count: \"+ str(train_data.count()))\n",
    "print(\"Test Dataset count: \"+ str(test_data.count()))"
   ]
  },
  {
   "cell_type": "markdown",
   "metadata": {},
   "source": [
    "# algorithms comparsion"
   ]
  },
  {
   "cell_type": "code",
   "execution_count": 20,
   "metadata": {},
   "outputs": [],
   "source": [
    "from pyspark.ml.classification import NaiveBayes,LogisticRegression,RandomForestClassifier\n",
    "from pyspark.ml import Pipeline\n",
    "lgr = LogisticRegression(labelCol='schoolsafety',featuresCol='features')\n",
    "nbs = NaiveBayes(labelCol='schoolsafety',featuresCol='features')\n",
    "rfc = RandomForestClassifier(labelCol='schoolsafety',featuresCol='features')"
   ]
  },
  {
   "cell_type": "code",
   "execution_count": 21,
   "metadata": {},
   "outputs": [],
   "source": [
    "lgr_model = lgr.fit(train_data)\n",
    "nbs_model = nbs.fit(train_data)\n",
    "rfc_model = rfc.fit(train_data)"
   ]
  },
  {
   "cell_type": "code",
   "execution_count": 22,
   "metadata": {},
   "outputs": [],
   "source": [
    "lgr_predictions = lgr_model.transform(test_data)\n",
    "nbs_predictions = nbs_model.transform(test_data)\n",
    "rfc_predictions = rfc_model.transform(test_data)"
   ]
  },
  {
   "cell_type": "code",
   "execution_count": 23,
   "metadata": {},
   "outputs": [
    {
     "name": "stdout",
     "output_type": "stream",
     "text": [
      "Here are the results!\n",
      "----------------------------------------\n",
      "A Logistic regression has an accuracy of: 80.15%\n",
      "----------------------------------------\n",
      "A NaiveBayes has an accuracy of: 72.21%\n",
      "----------------------------------------\n",
      "A random forest ensemble has an accuracy of: 81.14%\n"
     ]
    }
   ],
   "source": [
    "from pyspark.ml.evaluation import MulticlassClassificationEvaluator\n",
    "acc_evaluator = MulticlassClassificationEvaluator(labelCol=\"schoolsafety\", predictionCol=\"prediction\", metricName=\"accuracy\")\n",
    "lgr_acc = acc_evaluator.evaluate(lgr_predictions)\n",
    "nbs_acc = acc_evaluator.evaluate(nbs_predictions)\n",
    "rfc_acc = acc_evaluator.evaluate(rfc_predictions)\n",
    "# Let's do something a bit more complex in terms of printing, just so it's formatted nicer. \n",
    "print(\"Here are the results!\")\n",
    "print('-'*40)\n",
    "print('A Logistic regression has an accuracy of: {0:2.2f}%'.format(lgr_acc*100))\n",
    "print('-'*40)\n",
    "print('A NaiveBayes has an accuracy of: {0:2.2f}%'.format(nbs_acc*100))\n",
    "print('-'*40)\n",
    "print('A random forest ensemble has an accuracy of: {0:2.2f}%'.format(rfc_acc*100))"
   ]
  },
  {
   "cell_type": "markdown",
   "metadata": {},
   "source": [
    "# Final modelling"
   ]
  },
  {
   "cell_type": "code",
   "execution_count": 24,
   "metadata": {},
   "outputs": [
    {
     "data": {
      "text/plain": [
       "<Figure size 640x480 with 1 Axes>"
      ]
     },
     "metadata": {},
     "output_type": "display_data"
    }
   ],
   "source": [
    "import matplotlib.pyplot as plt\n",
    "import numpy as np\n",
    "beta = np.sort(model.coefficients)\n",
    "plt.plot(beta)\n",
    "plt.ylabel(\"beta Coefficients\")\n",
    "plt.show()"
   ]
  },
  {
   "cell_type": "code",
   "execution_count": 25,
   "metadata": {},
   "outputs": [
    {
     "data": {
      "image/png": "[encoded data removed]",
      "text/plain": [
       "<Figure size 432x288 with 1 Axes>"
      ]
     },
     "metadata": {},
     "output_type": "display_data"
    }
   ],
   "source": [
    "trainingSummary = model.summary\n",
    "roc = trainingSummary.roc.toPandas()\n",
    "plt.plot(roc['FPR'],roc['TPR'])\n",
    "plt.ylabel('False Positive Rate')\n",
    "plt.xlabel('True Positive Rate')\n",
    "plt.title('ROC Curve')\n",
    "plt.show()"
   ]
  },
  {
   "cell_type": "code",
   "execution_count": 26,
   "metadata": {},
   "outputs": [
    {
     "data": {
      "image/png": "[encoded data removed]",
      "text/plain": [
       "<Figure size 432x288 with 1 Axes>"
      ]
     },
     "metadata": {},
     "output_type": "display_data"
    }
   ],
   "source": [
    "pr = trainingSummary.pr.toPandas()\n",
    "plt.plot(pr['recall'],pr['precision'])\n",
    "plt.ylabel('Precision')\n",
    "plt.xlabel('Recall')\n",
    "plt.show()"
   ]
  },
  {
   "cell_type": "code",
   "execution_count": 27,
   "metadata": {
    "scrolled": true
   },
   "outputs": [
    {
     "name": "stdout",
     "output_type": "stream",
     "text": [
      "+--------------------+------------+--------------------+--------------------+----------+\n",
      "|            features|schoolsafety|       rawPrediction|         probability|prediction|\n",
      "+--------------------+------------+--------------------+--------------------+----------+\n",
      "|[1.0,204.0,3.0,3....|           1|[0.95425144730727...|[0.04771257236536...|       1.0|\n",
      "|[1.0,304.0,2.0,0....|           1|[2.42317346983085...|[0.12115867349154...|       1.0|\n",
      "|[1.0,492.0,1.0,0....|           0|[7.04285506695651...|[0.35214275334782...|       1.0|\n",
      "|[1.0,690.71577380...|           1|[1.35942946842367...|[0.06797147342118...|       1.0|\n",
      "|[1.0,1443.0,4.0,4...|           1|[10.9891335578892...|[0.54945667789446...|       0.0|\n",
      "+--------------------+------------+--------------------+--------------------+----------+\n",
      "only showing top 5 rows\n",
      "\n"
     ]
    }
   ],
   "source": [
    "rfc = RandomForestClassifier(labelCol=\"schoolsafety\", featuresCol=\"features\",maxDepth=4)\n",
    "rfc_model = rfc.fit(train_data)\n",
    "rfc_predictions = rfc_model.transform(test_data)\n",
    "rfc_predictions.show(5)"
   ]
  },
  {
   "cell_type": "code",
   "execution_count": 28,
   "metadata": {},
   "outputs": [
    {
     "name": "stdout",
     "output_type": "stream",
     "text": [
      "Test Error = 0.180348\n"
     ]
    }
   ],
   "source": [
    "accuracy = evaluator.evaluate(rfc_predictions)\n",
    "print(\"Test Error = %g\" % (1.0 - accuracy))"
   ]
  },
  {
   "cell_type": "code",
   "execution_count": 29,
   "metadata": {},
   "outputs": [],
   "source": [
    "rfc = RandomForestClassifier(labelCol='schoolsafety',featuresCol='features',maxDepth=4)\n",
    "modelR= rfc.fit(train)\n",
    "predictR_train=modelR.transform(train)\n",
    "predictR_test=modelR.transform(test)"
   ]
  },
  {
   "cell_type": "code",
   "execution_count": 30,
   "metadata": {},
   "outputs": [
    {
     "name": "stdout",
     "output_type": "stream",
     "text": [
      "The area under ROC for train set is 0.8544880005086839\n",
      "The area under ROC for test set is 0.8259940847847516\n"
     ]
    }
   ],
   "source": [
    "evaluator=BinaryClassificationEvaluator(rawPredictionCol='rawPrediction',labelCol='schoolsafety')\n",
    "print(\"The area under ROC for train set is {}\".format(evaluator.evaluate(predictR_train)))\n",
    "print(\"The area under ROC for test set is {}\".format(evaluator.evaluate(predictR_test)))"
   ]
  },
  {
   "cell_type": "code",
   "execution_count": 31,
   "metadata": {},
   "outputs": [
    {
     "data": {
      "text/plain": [
       "SparseVector(6, {0: 0.0833, 1: 0.3407, 2: 0.1692, 3: 0.1562, 4: 0.2243, 5: 0.0263})"
      ]
     },
     "execution_count": 31,
     "metadata": {},
     "output_type": "execute_result"
    }
   ],
   "source": [
    "rfc_model.featureImportances"
   ]
  },
  {
   "cell_type": "code",
   "execution_count": 32,
   "metadata": {},
   "outputs": [
    {
     "name": "stdout",
     "output_type": "stream",
     "text": [
      "cacheNodeIds: If false, the algorithm will pass trees to executors to match instances with nodes. If true, the algorithm will cache node IDs for each instance. Caching can speed up training of deeper trees. Users can set how often should the cache be checkpointed or disable it by setting checkpointInterval. (default: False)\n",
      "checkpointInterval: set checkpoint interval (>= 1) or disable checkpoint (-1). E.g. 10 means that the cache will get checkpointed every 10 iterations. (default: 10)\n",
      "featureSubsetStrategy: The number of features to consider for splits at each tree node. Supported options: auto, all, onethird, sqrt, log2, (0.0-1.0], [1-n]. (default: auto)\n",
      "featuresCol: features column name. (default: features, current: features)\n",
      "impurity: Criterion used for information gain calculation (case-insensitive). Supported options: entropy, gini (default: gini)\n",
      "labelCol: label column name. (default: label, current: schoolsafety)\n",
      "maxBins: Max number of bins for discretizing continuous features.  Must be >=2 and >= number of categories for any categorical feature. (default: 32)\n",
      "maxDepth: Maximum depth of the tree. (>= 0) E.g., depth 0 means 1 leaf node; depth 1 means 1 internal node + 2 leaf nodes. (default: 5, current: 4)\n",
      "maxMemoryInMB: Maximum memory in MB allocated to histogram aggregation. If too small, then 1 node will be split per iteration, and its aggregates may exceed this size. (default: 256)\n",
      "minInfoGain: Minimum information gain for a split to be considered at a tree node. (default: 0.0)\n",
      "minInstancesPerNode: Minimum number of instances each child must have after split. If a split causes the left or right child to have fewer than minInstancesPerNode, the split will be discarded as invalid. Should be >= 1. (default: 1)\n",
      "numTrees: Number of trees to train (>= 1). (default: 20)\n",
      "predictionCol: prediction column name. (default: prediction)\n",
      "probabilityCol: Column name for predicted class conditional probabilities. Note: Not all models output well-calibrated probability estimates! These probabilities should be treated as confidences, not precise probabilities. (default: probability)\n",
      "rawPredictionCol: raw prediction (a.k.a. confidence) column name. (default: rawPrediction)\n",
      "seed: random seed. (default: 6153716739964653368)\n",
      "subsamplingRate: Fraction of the training data used for learning each decision tree, in range (0, 1]. (default: 1.0)\n"
     ]
    }
   ],
   "source": [
    "print(rfc.explainParams())"
   ]
  },
  {
   "cell_type": "code",
   "execution_count": 33,
   "metadata": {},
   "outputs": [],
   "source": [
    "#print(lgr.explainParams())"
   ]
  },
  {
   "cell_type": "markdown",
   "metadata": {},
   "source": [
    "# iteration"
   ]
  },
  {
   "cell_type": "code",
   "execution_count": 85,
   "metadata": {},
   "outputs": [],
   "source": [
    "rfc = RandomForestClassifier(labelCol='schoolsafety',featuresCol='features',maxDepth=7)"
   ]
  },
  {
   "cell_type": "code",
   "execution_count": 86,
   "metadata": {},
   "outputs": [],
   "source": [
    "rfc_model = rfc.fit(train_data)"
   ]
  },
  {
   "cell_type": "code",
   "execution_count": 87,
   "metadata": {},
   "outputs": [],
   "source": [
    "rfc_predictions = rfc_model.transform(test_data)"
   ]
  },
  {
   "cell_type": "code",
   "execution_count": 88,
   "metadata": {},
   "outputs": [
    {
     "name": "stdout",
     "output_type": "stream",
     "text": [
      "Here are the results!\n",
      "----------------------------------------\n",
      "A random forest ensemble has an accuracy of: 82.13%\n"
     ]
    }
   ],
   "source": [
    "acc_evaluator = MulticlassClassificationEvaluator(labelCol=\"schoolsafety\", predictionCol=\"prediction\", metricName=\"accuracy\")\n",
    "rfc_acc = acc_evaluator.evaluate(rfc_predictions)\n",
    "# Let's do something a bit more complex in terms of printing, just so it's formatted nicer. \n",
    "print(\"Here are the results!\")\n",
    "print('-'*40)\n",
    "print('A random forest ensemble has an accuracy of: {0:2.2f}%'.format(rfc_acc*100))"
   ]
  },
  {
   "cell_type": "code",
   "execution_count": null,
   "metadata": {},
   "outputs": [],
   "source": []
  }
 ],
 "metadata": {
  "kernelspec": {
   "display_name": "Python 3",
   "language": "python",
   "name": "python3"
  },
  "language_info": {
   "codemirror_mode": {
    "name": "ipython",
    "version": 3
   },
   "file_extension": ".py",
   "mimetype": "text/x-python",
   "name": "python",
   "nbconvert_exporter": "python",
   "pygments_lexer": "ipython3",
   "version": "3.5.2"
  }
 },
 "nbformat": 4,
 "nbformat_minor": 2
}
